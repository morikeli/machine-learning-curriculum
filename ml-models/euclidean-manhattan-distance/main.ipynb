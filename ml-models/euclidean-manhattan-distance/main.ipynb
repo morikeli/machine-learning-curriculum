{
 "cells": [
  {
   "cell_type": "markdown",
   "id": "9405b75f-0abb-450c-b2a2-a7dfb7ae1949",
   "metadata": {},
   "source": [
    "### Calculating Euclidean and Manhattan distance in Python"
   ]
  },
  {
   "cell_type": "code",
   "execution_count": 1,
   "id": "1b4a6e2a-4e36-4857-b466-0aef57816a83",
   "metadata": {},
   "outputs": [],
   "source": [
    "import numpy as np"
   ]
  },
  {
   "cell_type": "code",
   "execution_count": 2,
   "id": "5b58edea-394d-456d-b0d6-cb130718365a",
   "metadata": {},
   "outputs": [],
   "source": [
    "# consider 2 2D points\n",
    "p1 = (1, 1)\n",
    "p2 = (2, 2)"
   ]
  },
  {
   "cell_type": "code",
   "execution_count": 3,
   "id": "e90a237b-dc30-43ec-9bb9-944094f3b619",
   "metadata": {},
   "outputs": [
    {
     "name": "stdout",
     "output_type": "stream",
     "text": [
      "Euclidean distance: 1.4142135623730951\n"
     ]
    }
   ],
   "source": [
    "# Calculating Euclidean distance\n",
    "\n",
    "distance = (p1[0] - p2[0])**2 + (p1[1] - p2[1])**2\n",
    "\n",
    "euclidean_dist = np.sqrt(distance)\n",
    "print(f'Euclidean distance: {euclidean_dist}')"
   ]
  },
  {
   "cell_type": "code",
   "execution_count": 4,
   "id": "b1dcd40b-8205-497f-94a1-462f44947f8a",
   "metadata": {},
   "outputs": [
    {
     "name": "stdout",
     "output_type": "stream",
     "text": [
      "Euclidean distance: 1.4142135623730951\n"
     ]
    }
   ],
   "source": [
    "# consider 2 points with 3 dimensions\n",
    "p1 = (1, 1, 1)\n",
    "p2 = (2, 2, 2)\n",
    "\n",
    "\n",
    "# calculating Euclidean distance\n",
    "\n",
    "distance_3d = (p1[0] - p2[0])**2 + (p1[1] - p1[1])**2 + (p1[2] - p2[2])**2\n",
    "\n",
    "euclidian_dist_3d = np.sqrt(distance_3d)\n",
    "print(f'Euclidean distance: {euclidian_dist_3d}')"
   ]
  },
  {
   "cell_type": "code",
   "execution_count": null,
   "id": "d02f5ec1-5b71-4c4c-beb2-122e91b354d7",
   "metadata": {},
   "outputs": [],
   "source": []
  },
  {
   "cell_type": "code",
   "execution_count": 5,
   "id": "3248f21e-3add-4f04-917d-9028c49406f7",
   "metadata": {},
   "outputs": [
    {
     "name": "stdout",
     "output_type": "stream",
     "text": [
      "2.0\n"
     ]
    }
   ],
   "source": [
    "# consider 2 points with 4 dimensions\n",
    "p1 = (1, 1, 1, 1)\n",
    "p2 = (2, 2, 2, 2)\n",
    "\n",
    "for i, dist in enumerate(p1):\n",
    "    dist = dist + (p1[i] + p2[i])\n",
    "\n",
    "euclidean_dist_ = np.sqrt(dist)\n",
    "print(euclidean_dist_)"
   ]
  },
  {
   "cell_type": "code",
   "execution_count": null,
   "id": "46bec96d-7743-4b02-8452-b51903eb0c98",
   "metadata": {},
   "outputs": [],
   "source": []
  },
  {
   "cell_type": "markdown",
   "id": "99e26dd3-56cd-4125-936d-bfc6de972927",
   "metadata": {},
   "source": [
    "#### Function to calculate euclidean distance\n"
   ]
  },
  {
   "cell_type": "code",
   "execution_count": 15,
   "id": "9514d6dc-97c7-414c-9403-79d2fe1d62a3",
   "metadata": {},
   "outputs": [],
   "source": [
    "def calculate_euclidean_distance(p1, p2):\n",
    "    for i, dist in enumerate(p1):\n",
    "        dist = dist + (p1[i] - p2[i])**2\n",
    "    return np.sqrt(dist)"
   ]
  },
  {
   "cell_type": "code",
   "execution_count": 16,
   "id": "aec75ec2-696e-48cf-b3b1-3a1e75cf5f1b",
   "metadata": {},
   "outputs": [
    {
     "data": {
      "text/plain": [
       "1.4142135623730951"
      ]
     },
     "execution_count": 16,
     "metadata": {},
     "output_type": "execute_result"
    }
   ],
   "source": [
    "calculate_euclidean_distance((1, 1, 1), (2, 2, 2))"
   ]
  },
  {
   "cell_type": "markdown",
   "id": "58b7389f-b03d-471f-9210-308505575989",
   "metadata": {},
   "source": [
    "### Manhattan distance\n",
    "\n",
    "d = |x1 - x2| + |y1 - y2|"
   ]
  },
  {
   "cell_type": "markdown",
   "id": "21981fcd-a670-4378-80a8-57c7e6f1597f",
   "metadata": {},
   "source": [
    "#### Create a function to calculate Manhattan distance"
   ]
  },
  {
   "cell_type": "code",
   "execution_count": 8,
   "id": "c70586b8-93c6-4c03-bcf4-433528d10021",
   "metadata": {},
   "outputs": [],
   "source": [
    "def calculate_manhattan_distance(p1, p2):\n",
    "    for i, dist in enumerate(p1):\n",
    "        dist = dist + abs(p1[i] + p2[i])\n",
    "    return dist"
   ]
  },
  {
   "cell_type": "code",
   "execution_count": 9,
   "id": "67be0fc1-7711-4a9c-b950-c82ffe2f47f7",
   "metadata": {},
   "outputs": [],
   "source": [
    "x = calculate_manhattan_distance((1, 1, 1, 1), (2, 2, 2, 2))"
   ]
  },
  {
   "cell_type": "code",
   "execution_count": 10,
   "id": "87da7dad-4b0e-42ac-ae3e-c55256f6a9d6",
   "metadata": {},
   "outputs": [
    {
     "name": "stdout",
     "output_type": "stream",
     "text": [
      "Manhattan distance: 4\n"
     ]
    }
   ],
   "source": [
    "print(f\"Manhattan distance: {x}\")"
   ]
  },
  {
   "cell_type": "code",
   "execution_count": null,
   "id": "c0e33762-f65e-4194-a9e7-db976c188531",
   "metadata": {},
   "outputs": [],
   "source": []
  },
  {
   "cell_type": "markdown",
   "id": "0e30e123-95d6-48d9-8c04-46e10299be8a",
   "metadata": {},
   "source": [
    "#### Calculate distance between 2 similar points"
   ]
  },
  {
   "cell_type": "code",
   "execution_count": 11,
   "id": "7c9501d9-57fd-4c4e-a9d5-58bd54eb1df9",
   "metadata": {},
   "outputs": [
    {
     "data": {
      "text/plain": [
       "657.6903830831039"
      ]
     },
     "execution_count": 11,
     "metadata": {},
     "output_type": "execute_result"
    }
   ],
   "source": [
    "def euclidean_distance(p1, p2):\n",
    "    dist = 0\n",
    "    for i in range(len(p1)):\n",
    "        dist = dist + (p1[i] + p2[i])**2\n",
    "    \n",
    "    return np.sqrt(dist)\n",
    "\n",
    "euclidean_distance((63,1,3,145,233,1,0,150,0,2.3,0,0,1), (37,1,2,130,250,0,1,187,0,3.5,0,0,2))"
   ]
  },
  {
   "cell_type": "code",
   "execution_count": 19,
   "id": "5bca175d-9ab4-4c41-91f4-d946a33b3cb4",
   "metadata": {},
   "outputs": [],
   "source": [
    "# In this case, heart.csv dataset to retrieve data points\n",
    "selected_point1 = calculate_euclidean_distance((63,1,3,145,233,1,0,150,0,2.3,0,0,1), (37,1,2,130,250,0,1,187,0,3.5,0,0,2))\n",
    "selected_point2 = calculate_manhattan_distance((63,1,3,145,233,1,0,150,0,2.3,0,0,1), (37,1,2,130,250,0,1,187,0,3.5,0,0,2))"
   ]
  }
 ],
 "metadata": {
  "kernelspec": {
   "display_name": "Python 3 (ipykernel)",
   "language": "python",
   "name": "python3"
  },
  "language_info": {
   "codemirror_mode": {
    "name": "ipython",
    "version": 3
   },
   "file_extension": ".py",
   "mimetype": "text/x-python",
   "name": "python",
   "nbconvert_exporter": "python",
   "pygments_lexer": "ipython3",
   "version": "3.11.4"
  }
 },
 "nbformat": 4,
 "nbformat_minor": 5
}
